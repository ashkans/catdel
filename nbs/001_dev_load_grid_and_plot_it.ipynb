{
 "cells": [
  {
   "cell_type": "code",
   "execution_count": 6,
   "metadata": {},
   "outputs": [
    {
     "name": "stdout",
     "output_type": "stream",
     "text": [
      "The autoreload extension is already loaded. To reload it, use:\n",
      "  %reload_ext autoreload\n"
     ]
    },
    {
     "name": "stderr",
     "output_type": "stream",
     "text": [
      "/home/ashkan/projects/catdel/.venv/lib/python3.10/site-packages/pyproj/crs/crs.py:141: FutureWarning: '+init=<authority>:<code>' syntax is deprecated. '<authority>:<code>' is the preferred initialization method. When making the change, be mindful of axis order changes: https://pyproj4.github.io/pyproj/stable/gotchas.html#axis-order-changes-in-proj-6\n",
      "  in_crs_string = _prepare_from_proj_string(in_crs_string)\n",
      "/home/ashkan/projects/catdel/.venv/lib/python3.10/site-packages/pysheds/io.py:134: UserWarning: No `nodata` value detected. Defaulting to 0.\n",
      "  warnings.warn('No `nodata` value detected. Defaulting to 0.')\n"
     ]
    }
   ],
   "source": [
    "%load_ext autoreload\n",
    "%autoreload 2\n",
    "\n",
    "import streamlit as st\n",
    "from catdel.components import misc\n",
    "from catdel.config import Config\n",
    "from catdel import process\n",
    "from catdel.projection import Projection\n",
    "from catdel.grid_processors import get_grid_bounds_geo, get_grid_center_geo\n",
    "import folium\n",
    "from IPython.display import display\n",
    "from pysheds.grid import Grid\n",
    "\n",
    "\n",
    "config = Config()\n",
    "\n",
    "# Create a map object centered on Portland, Oregon\n",
    "\n",
    "# Add a marker\n",
    "\n",
    "\n",
    "# Display the map in the Jupyter notebook\n",
    "\n",
    "\n",
    "\n",
    "fn = '/home/ashkan/Downloads/DEM-1m.tif'\n",
    "grid, dem = process.load_grid_and_data(fn, config.proj.pyproj)\n"
   ]
  },
  {
   "cell_type": "code",
   "execution_count": 7,
   "metadata": {},
   "outputs": [],
   "source": [
    "#process.delin(dem, grid, config)\n",
    "\n",
    "\n",
    "# Fill pits in DEM\n",
    "pit_filled_dem = grid.fill_pits(dem)\n",
    "# Fill depressions in DEM\n",
    "flooded_dem = grid.fill_depressions(pit_filled_dem)\n",
    "# Resolve flats in DEM\n",
    "inflated_dem = grid.resolve_flats(flooded_dem)\n",
    "dirmap = (64, 128, 1, 2, 4, 8, 16, 32)\n",
    "fdir = grid.flowdir(inflated_dem, dirmap=dirmap)\n",
    "acc = grid.accumulation(fdir, dirmap=dirmap)\n",
    "\n",
    "# Snap pour point to high accumulation cell\n",
    "lat, lng = -38.1923, 140.2318\n",
    "\n",
    "lat_snap, lng_snap = grid.snap_to_mask(acc > config.snap_thr, (lat, lng))\n",
    "\n",
    "\n",
    "# Delineate the catchment\n",
    "catch = grid.catchment(x=lat_snap,\n",
    "                    y=lng_snap,\n",
    "                    fdir=fdir,\n",
    "                    dirmap=dirmap,\n",
    "                    xytype='coordinate')\n",
    "\n",
    "branches = grid.extract_river_network(fdir,\n",
    "                                        acc > config.acc_thr,\n",
    "                                        dirmap=dirmap)\n",
    "\n",
    "\n",
    "out = {'catch': catch, 'branches':branches}\n",
    "\n",
    "\n"
   ]
  }
 ],
 "metadata": {
  "kernelspec": {
   "display_name": ".venv",
   "language": "python",
   "name": "python3"
  },
  "language_info": {
   "codemirror_mode": {
    "name": "ipython",
    "version": 3
   },
   "file_extension": ".py",
   "mimetype": "text/x-python",
   "name": "python",
   "nbconvert_exporter": "python",
   "pygments_lexer": "ipython3",
   "version": "3.10.12"
  }
 },
 "nbformat": 4,
 "nbformat_minor": 2
}
